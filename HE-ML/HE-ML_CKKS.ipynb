{
 "cells": [
  {
   "cell_type": "code",
   "execution_count": 1,
   "id": "1f2be842-80e1-4c95-b6b2-5724545551e2",
   "metadata": {},
   "outputs": [],
   "source": [
    "import time\n",
    "import torch\n",
    "import torchvision\n",
    "import torchvision.transforms as transforms\n",
    "import torch.nn as nn\n",
    "import torch.nn.functional as F\n",
    "import torch.optim as optim\n",
    "\n",
    "import numpy as np"
   ]
  },
  {
   "cell_type": "markdown",
   "id": "37db485d-fcec-4c20-943e-239a74a70cf4",
   "metadata": {},
   "source": [
    "# Homomorphic Encrypted LeNet-1\n",
    "This notebook will show a very practical example of running the famous LeNet-1 DL model directly on encrypted data.\n",
    "\n",
    "![scheme](HE_processing.png)"
   ]
  },
  {
   "cell_type": "markdown",
   "id": "c1b6b3e7-d428-48e4-b9db-3609ceb94b25",
   "metadata": {},
   "source": [
    "## Homomorphic encryption operations\n",
    "First of all, we will look at Pyfhel, a Python library which wraps SEAL, one of the most used frameworks for HE.\n",
    "Pyfhel supports the BFV scheme, so, it is the one that we will use."
   ]
  },
  {
   "cell_type": "code",
   "execution_count": 2,
   "id": "7c74dbc3-b890-4a87-9e8e-0094b9fc17b4",
   "metadata": {},
   "outputs": [
    {
     "name": "stdout",
     "output_type": "stream",
     "text": [
      "<ckks Pyfhel obj at 0x7f745c252530, [pk:Y, sk:Y, rtk:-, rlk:Y, contx(n=8192, t=0, sec=128, qi=[31, 26, 26, 26, 26, 26, 26, 31], scale=67108864.0, )]>\n"
     ]
    }
   ],
   "source": [
    "from Pyfhel import Pyfhel, PyPtxt, PyCtxt\n",
    "\n",
    "n_mults = 6\n",
    "scale_power = 26\n",
    "\n",
    "HE = Pyfhel()\n",
    "HE.contextGen(scheme='ckks', n=8192, scale=2**26, qi=[31]+ [scale_power]*n_mults +[31])\n",
    "HE.keyGen()\n",
    "HE.relinKeyGen()\n",
    "\n",
    "print(HE)"
   ]
  },
  {
   "cell_type": "code",
   "execution_count": 3,
   "id": "fe05ce84-8383-46c9-83d0-44d94275f928",
   "metadata": {},
   "outputs": [],
   "source": [
    "c1 = HE.encrypt(0.5)\n",
    "c2 = HE.encrypt(0.4)"
   ]
  },
  {
   "cell_type": "code",
   "execution_count": 4,
   "id": "403a6625-f4b6-4951-87d0-9beaa31c10f8",
   "metadata": {},
   "outputs": [],
   "source": [
    "p1 = HE.encode(0.1)\n",
    "p2 = HE.encode(0.2)\n",
    "p3 = HE.encode(0.3)"
   ]
  },
  {
   "cell_type": "code",
   "execution_count": 5,
   "id": "1d120678-ede8-40e1-8e05-ddeec89e20a4",
   "metadata": {},
   "outputs": [],
   "source": [
    "den = HE.encode(0.2)"
   ]
  },
  {
   "cell_type": "code",
   "execution_count": 6,
   "id": "6fc027d1-57bb-4c55-9dd3-0776d0bd40a7",
   "metadata": {},
   "outputs": [
    {
     "name": "stdout",
     "output_type": "stream",
     "text": [
      "<Pyfhel Ciphertext at 0x7f72d77d9340, scheme=ckks, size=2/2, scale_bits=26, mod_level=0>\n",
      "<Pyfhel Plaintext at 0x7f72d73c3cc0, scheme=ckks, poly=?, is_ntt=Y, mod_level=0>\n"
     ]
    }
   ],
   "source": [
    "print(c1)\n",
    "print(p1)"
   ]
  },
  {
   "cell_type": "code",
   "execution_count": 7,
   "id": "27460498-ccc8-4a4a-835c-d7d6b24baa81",
   "metadata": {},
   "outputs": [
    {
     "name": "stdout",
     "output_type": "stream",
     "text": [
      "<Pyfhel Ciphertext at 0x7f72d73d0a80, scheme=ckks, size=2/2, scale_bits=26, mod_level=1>\n"
     ]
    }
   ],
   "source": [
    "result = ( (c1 * p1) + (c2 * p2) ) + p3\n",
    "print(result)"
   ]
  },
  {
   "cell_type": "code",
   "execution_count": 8,
   "id": "2a9076ca-a059-4c81-a733-bc1558fab8d6",
   "metadata": {},
   "outputs": [],
   "source": [
    "result = ( (c1 * p1) + (c2 * p2) ) + p3\n",
    "result = result * result\n",
    "HE.relinearize(result)\n",
    "HE.rescale_to_next(result)"
   ]
  },
  {
   "cell_type": "code",
   "execution_count": 9,
   "id": "d8c8d0e1-7a2c-4e52-8868-7c2bee64a9d8",
   "metadata": {},
   "outputs": [
    {
     "data": {
      "text/plain": [
       "<Pyfhel Ciphertext at 0x7f72d73c8800, scheme=ckks, size=2/3, scale_bits=26, mod_level=2>"
      ]
     },
     "execution_count": 9,
     "metadata": {},
     "output_type": "execute_result"
    }
   ],
   "source": [
    "result"
   ]
  },
  {
   "cell_type": "code",
   "execution_count": 10,
   "id": "c1cb26ed-af26-4956-9be3-2170258d99b1",
   "metadata": {},
   "outputs": [
    {
     "data": {
      "text/plain": [
       "(<Pyfhel Ciphertext at 0x7f72d73d0ec0, scheme=ckks, size=2/2, scale_bits=26, mod_level=2>,\n",
       " <Pyfhel Plaintext at 0x7f72d73d0e00, scheme=ckks, poly=?, is_ntt=Y, mod_level=2>)"
      ]
     },
     "execution_count": 10,
     "metadata": {},
     "output_type": "execute_result"
    }
   ],
   "source": [
    "HE.align_mod_n_scale(result, den)"
   ]
  },
  {
   "cell_type": "code",
   "execution_count": 11,
   "id": "a614030f-bef1-4e02-92e1-57ff5636333c",
   "metadata": {},
   "outputs": [],
   "source": [
    "HE.mod_switch_to_next(den)\n",
    "HE.mod_switch_to_next(den)"
   ]
  },
  {
   "cell_type": "code",
   "execution_count": 12,
   "id": "a1ae1332-82d0-4997-a843-65ce54ceff64",
   "metadata": {},
   "outputs": [
    {
     "data": {
      "text/plain": [
       "<Pyfhel Ciphertext at 0x7f72d73c8800, scheme=ckks, size=2/3, scale_bits=26, mod_level=2>"
      ]
     },
     "execution_count": 12,
     "metadata": {},
     "output_type": "execute_result"
    }
   ],
   "source": [
    "result"
   ]
  },
  {
   "cell_type": "code",
   "execution_count": 13,
   "id": "29f79ae1-be54-4b32-9e3a-7888b299d99d",
   "metadata": {},
   "outputs": [
    {
     "data": {
      "text/plain": [
       "<Pyfhel Plaintext at 0x7f72da1ae300, scheme=ckks, poly=?, is_ntt=Y, mod_level=2>"
      ]
     },
     "execution_count": 13,
     "metadata": {},
     "output_type": "execute_result"
    }
   ],
   "source": [
    "den"
   ]
  },
  {
   "cell_type": "code",
   "execution_count": 14,
   "id": "6f7dab70-087f-41f2-a8c1-cc5aa96d3772",
   "metadata": {},
   "outputs": [
    {
     "data": {
      "text/plain": [
       "<Pyfhel Ciphertext at 0x7f72d4eeb1c0, scheme=ckks, size=2/2, scale_bits=52, mod_level=3>"
      ]
     },
     "execution_count": 14,
     "metadata": {},
     "output_type": "execute_result"
    }
   ],
   "source": [
    "result * den"
   ]
  },
  {
   "cell_type": "code",
   "execution_count": 15,
   "id": "e789846f-e333-4603-a919-98f5d7faf931",
   "metadata": {},
   "outputs": [],
   "source": [
    "# print(s.mod_level)\n",
    "# print(den)"
   ]
  },
  {
   "cell_type": "code",
   "execution_count": 16,
   "id": "54f2d007-0e17-4f77-955f-7bf744571cce",
   "metadata": {},
   "outputs": [],
   "source": [
    "# f = s * den"
   ]
  },
  {
   "cell_type": "code",
   "execution_count": null,
   "id": "5c652b44-3fa9-4f8e-a870-6f76fe124f43",
   "metadata": {},
   "outputs": [],
   "source": []
  },
  {
   "cell_type": "code",
   "execution_count": null,
   "id": "dda82caa-22b8-4a6d-b4a8-2626c50d51fe",
   "metadata": {},
   "outputs": [],
   "source": []
  },
  {
   "cell_type": "code",
   "execution_count": 17,
   "id": "a9f9b90a-f443-4a6b-9fbb-b1fc91c2565d",
   "metadata": {},
   "outputs": [
    {
     "name": "stdout",
     "output_type": "stream",
     "text": [
      "Expected sum: [125.02820745 127.25717263], decrypted sum: 125.02819805466478\n",
      "Expected sub: [129.28613781 127.05717263], decrypted sum: 129.28612835901663\n",
      "Expected mul: [-270.71319317   12.71571726], decrypted sum: -270.7131693169107\n"
     ]
    }
   ],
   "source": [
    "a = np.array([127.15717263])\n",
    "b = -2.128965182, 0.1\n",
    "ctxt1 = HE.encrypt(a)\n",
    "ctxt2 = HE.encode(b)\n",
    "\n",
    "ctxtSum = ctxt1 + ctxt2\n",
    "ctxtSub = ctxt1 - ctxt2\n",
    "ctxtMul = ctxt1 * ctxt2\n",
    "\n",
    "resSum = HE.decrypt(ctxtSum)\n",
    "resSub = HE.decrypt(ctxtSub) \n",
    "resMul = HE.decrypt(ctxtMul)\n",
    "\n",
    "print(f\"Expected sum: {a+b}, decrypted sum: {resSum[0]}\")\n",
    "print(f\"Expected sub: {a-b}, decrypted sum: {resSub[0]}\")\n",
    "print(f\"Expected mul: {a*b}, decrypted sum: {resMul[0]}\")"
   ]
  },
  {
   "cell_type": "markdown",
   "id": "1180b17e-7644-4ce8-99a6-c1906758e2eb",
   "metadata": {},
   "source": [
    "## LeNet-1\n",
    "The LeNet-1 is a small CNN developed by LeCun et al. It is composed of 5 layers: a convolutional layer with 4 kernels of size 5x5 and tanh activation, an average pooling layer with kernel of size 2, another convolutional layer with 16 kernels of size 5x5 and tanh activation, another average pooling layer with kernel of size 2, and a fully connected layers with size 192x10. \n",
    "\n",
    "The highest value in the output tensor corresponds to the label LeNet-1 associated to the input image. \n",
    "\n",
    "For this tutorial we will use the MNIST dataset."
   ]
  },
  {
   "cell_type": "code",
   "execution_count": 18,
   "id": "8fcf92dc-4929-4adc-b97e-2a1bf946bfeb",
   "metadata": {},
   "outputs": [
    {
     "name": "stdout",
     "output_type": "stream",
     "text": [
      "Downloading http://yann.lecun.com/exdb/mnist/train-images-idx3-ubyte.gz\n",
      "Downloading http://yann.lecun.com/exdb/mnist/train-images-idx3-ubyte.gz to ./data/MNIST/raw/train-images-idx3-ubyte.gz\n"
     ]
    },
    {
     "name": "stderr",
     "output_type": "stream",
     "text": [
      "36.9%IOPub message rate exceeded.\n",
      "The Jupyter server will temporarily stop sending output\n",
      "to the client in order to avoid crashing it.\n",
      "To change this limit, set the config variable\n",
      "`--ServerApp.iopub_msg_rate_limit`.\n",
      "\n",
      "Current values:\n",
      "ServerApp.iopub_msg_rate_limit=1000.0 (msgs/sec)\n",
      "ServerApp.rate_limit_window=3.0 (secs)\n",
      "\n",
      "80.7%IOPub message rate exceeded.\n",
      "The Jupyter server will temporarily stop sending output\n",
      "to the client in order to avoid crashing it.\n",
      "To change this limit, set the config variable\n",
      "`--ServerApp.iopub_msg_rate_limit`.\n",
      "\n",
      "Current values:\n",
      "ServerApp.iopub_msg_rate_limit=1000.0 (msgs/sec)\n",
      "ServerApp.rate_limit_window=3.0 (secs)\n",
      "\n",
      "14.4%"
     ]
    },
    {
     "name": "stdout",
     "output_type": "stream",
     "text": [
      "Downloading http://yann.lecun.com/exdb/mnist/t10k-images-idx3-ubyte.gz to ./data/MNIST/raw/t10k-images-idx3-ubyte.gz\n"
     ]
    },
    {
     "name": "stderr",
     "output_type": "stream",
     "text": [
      "100.0%\n"
     ]
    },
    {
     "name": "stdout",
     "output_type": "stream",
     "text": [
      "Extracting ./data/MNIST/raw/t10k-images-idx3-ubyte.gz to ./data/MNIST/raw\n",
      "\n",
      "Downloading http://yann.lecun.com/exdb/mnist/t10k-labels-idx1-ubyte.gz\n",
      "Downloading http://yann.lecun.com/exdb/mnist/t10k-labels-idx1-ubyte.gz to ./data/MNIST/raw/t10k-labels-idx1-ubyte.gz\n"
     ]
    },
    {
     "name": "stderr",
     "output_type": "stream",
     "text": [
      "112.7%"
     ]
    },
    {
     "name": "stdout",
     "output_type": "stream",
     "text": [
      "Extracting ./data/MNIST/raw/t10k-labels-idx1-ubyte.gz to ./data/MNIST/raw\n",
      "\n"
     ]
    },
    {
     "name": "stderr",
     "output_type": "stream",
     "text": [
      "\n"
     ]
    }
   ],
   "source": [
    "transform = transforms.ToTensor()\n",
    "\n",
    "test_set = torchvision.datasets.MNIST(\n",
    "    root = './data',\n",
    "    train=False,\n",
    "    download=True,\n",
    "    transform=transform\n",
    ")\n",
    "\n",
    "test_loader = torch.utils.data.DataLoader(\n",
    "    test_set,\n",
    "    batch_size=50,\n",
    "    shuffle=True\n",
    ")"
   ]
  },
  {
   "cell_type": "markdown",
   "id": "025dfbc9-38d0-41a7-a140-9606bfeff53f",
   "metadata": {},
   "source": [
    "## Approximating\n",
    "As we know, there are some operations that cannot be performed homomorphically on encrypted values. Most notably, these operations are division and comparison. It is possible to perform only linear functions.\n",
    "\n",
    "Consequently, in the LeNet-1 scheme we used, we can not use `tanh()`. This is because we cannot apply its non-linearities.\n",
    "\n",
    "\n",
    "One of the most common approach is to replace it with a simple polynomial function, for example a square layer (which simply performs $x \\rightarrow x^2$).\n",
    "\n",
    "We define the model with all the non-linearities removed **approximated**. This model can be re-trained, and it will be ready to be used on encrypted values."
   ]
  },
  {
   "cell_type": "code",
   "execution_count": 19,
   "id": "5d4c2478-dabb-487c-99c3-283320a692f2",
   "metadata": {},
   "outputs": [
    {
     "data": {
      "text/plain": [
       "Sequential(\n",
       "  (0): Conv2d(1, 4, kernel_size=(5, 5), stride=(1, 1))\n",
       "  (1): Square()\n",
       "  (2): AvgPool2d(kernel_size=2, stride=2, padding=0)\n",
       "  (3): Conv2d(4, 12, kernel_size=(5, 5), stride=(1, 1))\n",
       "  (4): AvgPool2d(kernel_size=2, stride=2, padding=0)\n",
       "  (5): Flatten(start_dim=1, end_dim=-1)\n",
       "  (6): Linear(in_features=192, out_features=10, bias=True)\n",
       ")"
      ]
     },
     "execution_count": 19,
     "metadata": {},
     "output_type": "execute_result"
    }
   ],
   "source": [
    "class Square(nn.Module):\n",
    "    def __init__(self):\n",
    "        super().__init__()\n",
    "\n",
    "    def forward(self, t):\n",
    "        return torch.pow(t, 2)\n",
    "\n",
    "lenet_1_approx = torch.load(\"LeNet1_Approx_single_square.pt\")\n",
    "# lenet_1_approx = torch.load(\"LeNet1_Approx_simple.pt\")\n",
    "lenet_1_approx.to(\"cpu\")"
   ]
  },
  {
   "cell_type": "markdown",
   "id": "874fb0fa-2122-46d3-8dcf-dc528959da8c",
   "metadata": {},
   "source": [
    "## Encoding\n",
    "From the applicative point of view, we have two options on how we want our Torch model to run on encrypted values:\n",
    "  1. Modify Torch layers code in order to be fully compatible with arrays of Pyfhel ciphertexts/encoded values;\n",
    "  2. Create the code for the general blocks of LeNet-1 (convolutional layer, linear layer, square layer, flatten...)\n",
    "  \n",
    "Let's remember that, in order to be used with the encrypted values, also the weights of the models will have to be **encoded**. This means that each value in the weights of each layer will be encoded in a polynomial."
   ]
  },
  {
   "cell_type": "code",
   "execution_count": 20,
   "id": "b6ff6f65-6b53-486e-a97e-a4952184ff0e",
   "metadata": {},
   "outputs": [],
   "source": [
    "import os, sys\n",
    "module_path = os.path.abspath(os.path.join('..'))\n",
    "sys.path.append(module_path)"
   ]
  },
  {
   "cell_type": "markdown",
   "id": "a9bfd4c8-79bb-4647-9353-5f76629f1f56",
   "metadata": {},
   "source": [
    "We can now use a function to \"convert\" a PyTorch model to a list of sequential HE-ready-to-be-used layers (`sequential`):"
   ]
  },
  {
   "cell_type": "code",
   "execution_count": 21,
   "id": "886fc91b-7301-4a31-830a-05b326745c98",
   "metadata": {},
   "outputs": [],
   "source": [
    "from pycrcnn.he.HE import CKKSPyfhel\n",
    "from pycrcnn.model.sequential import Sequential"
   ]
  },
  {
   "cell_type": "markdown",
   "id": "06bde28e-7adc-4ede-876a-b5e57b63b0c4",
   "metadata": {},
   "source": [
    "## Encrypted processing\n",
    "\n",
    "Let's list the activities that we will now do:\n",
    "  1. Create a PyCrCNN BFV HE context, specifiying the encryption parameters `m` (polynomial modulus degree) and `p` (plaintext modulus). Let's remember that `q` will be chosen automatically in order to guarantee a 128-bit RSA equivalent security;\n",
    "  2. Convert our Torch approximated model to a list of layers able to work on matrices of encrypted values. The weights will be encoded;\n",
    "  3. Encrypt an image from our testing set;\n",
    "  4. Verify that the final classification result is correct."
   ]
  },
  {
   "cell_type": "code",
   "execution_count": 23,
   "id": "2d2e537b-1bc0-4dee-8023-4ee75c61a882",
   "metadata": {},
   "outputs": [],
   "source": [
    "import matplotlib.pyplot as plt\n",
    "\n",
    "images, labels = next(iter(test_loader))\n",
    "\n",
    "sample_image = images[0]\n",
    "sample_label = labels[0]"
   ]
  },
  {
   "cell_type": "code",
   "execution_count": 24,
   "id": "eb5ae8c0-20dd-4456-ac49-145b21a17d6d",
   "metadata": {},
   "outputs": [
    {
     "data": {
      "text/plain": [
       "<matplotlib.image.AxesImage at 0x7f72c417fcd0>"
      ]
     },
     "execution_count": 24,
     "metadata": {},
     "output_type": "execute_result"
    },
    {
     "data": {
      "image/png": "[encoded data removed]",
      "text/plain": [
       "<Figure size 432x288 with 1 Axes>"
      ]
     },
     "metadata": {
      "needs_background": "light"
     },
     "output_type": "display_data"
    }
   ],
   "source": [
    "plt.imshow(sample_image[0], cmap='gray', interpolation='none')"
   ]
  },
  {
   "cell_type": "code",
   "execution_count": 25,
   "id": "7d86b2ef-68ad-4eba-865a-b057efcdb8cc",
   "metadata": {},
   "outputs": [
    {
     "data": {
      "text/plain": [
       "tensor(9)"
      ]
     },
     "execution_count": 25,
     "metadata": {},
     "output_type": "execute_result"
    }
   ],
   "source": [
    "sample_label"
   ]
  },
  {
   "cell_type": "markdown",
   "id": "c3a03f8f-997e-4009-94b4-541f7cc56318",
   "metadata": {},
   "source": [
    "We will create two PyCrCNN HE contexts: the one we will use to encrypt the image (`HE_Client`), and the one we will use to process the encrypted image (`HE_Server`). We will need to transfer the public key and the relinearization key in order to allow the server to compute some operations on encrypted data."
   ]
  },
  {
   "cell_type": "code",
   "execution_count": 26,
   "id": "c798006e-31d2-4aa1-a270-58e84c3e8a13",
   "metadata": {},
   "outputs": [
    {
     "name": "stdout",
     "output_type": "stream",
     "text": [
      "\n",
      "The context generation requested 0.32 seconds.\n"
     ]
    }
   ],
   "source": [
    "# La somma dei qi, in bits, ha degli upperbound\n",
    "# legati al valore di n:\n",
    "# 1024 -> 27\n",
    "# 2048 -> 54\n",
    "# 4096 -> 109\n",
    "# 8192 -> 218\n",
    "# 16384 -> 438\n",
    "# 32768 -> 881\n",
    "\n",
    "start_time = time.time()\n",
    "\n",
    "n_mults = 6\n",
    "n = 8192\n",
    "scale_power = 25\n",
    "\n",
    "encryption_parameters = {\n",
    "    'n': n,                      # For CKKS, n/2 values can be encoded in a single ciphertext\n",
    "    'scale': 2**scale_power,                 # Each multiplication grows the final scale\n",
    "    'qi': [34]+ [scale_power]*n_mults +[34]  # One intermdiate for each multiplication\n",
    "}\n",
    "\n",
    "HE_Client = CKKSPyfhel(**encryption_parameters)\n",
    "HE_Client.generate_keys()\n",
    "HE_Client.generate_relin_keys()\n",
    "\n",
    "public_key = HE_Client.get_public_key()\n",
    "relin_key  = HE_Client.get_relin_key()\n",
    "\n",
    "\n",
    "HE_Server = CKKSPyfhel(**encryption_parameters)\n",
    "HE_Server.load_public_key(public_key)\n",
    "HE_Server.load_relin_key(relin_key)\n",
    "\n",
    "requested_time = round(time.time() - start_time, 2)\n",
    "print(f\"\\nThe context generation requested {requested_time} seconds.\")"
   ]
  },
  {
   "cell_type": "markdown",
   "id": "34a70f52-d87b-489d-b156-2e28333513e3",
   "metadata": {},
   "source": [
    "Now, we create an encoded model starting from the approximated LeNet1."
   ]
  },
  {
   "cell_type": "code",
   "execution_count": 27,
   "id": "1d31b2c1-2fdf-497e-ac6a-2657967a1415",
   "metadata": {},
   "outputs": [
    {
     "name": "stdout",
     "output_type": "stream",
     "text": [
      "\n",
      "The model encoding requested 5.15 seconds.\n",
      "\n",
      "The image encryption requested 5.94 seconds.\n"
     ]
    }
   ],
   "source": [
    "start_time = time.time()\n",
    "lenet1_approx_encoded = Sequential(HE_Server, lenet_1_approx)\n",
    "requested_time = round(time.time() - start_time, 2)\n",
    "print(f\"\\nThe model encoding requested {requested_time} seconds.\")\n",
    "\n",
    "start_time = time.time()\n",
    "encrypted_image = HE_Client.encrypt_matrix(sample_image.unsqueeze(0).numpy())\n",
    "requested_time = round(time.time() - start_time, 2)\n",
    "print(f\"\\nThe image encryption requested {requested_time} seconds.\")"
   ]
  },
  {
   "cell_type": "code",
   "execution_count": 28,
   "id": "161ac5e4-bd96-46a8-b9fb-ab7a78810c62",
   "metadata": {},
   "outputs": [],
   "source": [
    "with torch.no_grad():\n",
    "    expected_output = lenet_1_approx(sample_image.unsqueeze(0))"
   ]
  },
  {
   "cell_type": "code",
   "execution_count": 29,
   "id": "2bace3b5-4e38-4698-963b-768d85e707b1",
   "metadata": {},
   "outputs": [
    {
     "name": "stdout",
     "output_type": "stream",
     "text": [
      "\n",
      "The encrypted processing of one image requested 91.18 seconds.\n"
     ]
    },
    {
     "ename": "AttributeError",
     "evalue": "'Pyfhel.Pyfhel.Pyfhel' object has no attribute 'decryptFracFrac'",
     "output_type": "error",
     "traceback": [
      "\u001b[0;31m---------------------------------------------------------------------------\u001b[0m",
      "\u001b[0;31mTypeError\u001b[0m                                 Traceback (most recent call last)",
      "File \u001b[0;32m~/PyCrCNN/pycrcnn/he/HE.py:309\u001b[0m, in \u001b[0;36mCKKSPyfhel.decrypt_matrix\u001b[0;34m(self, matrix)\u001b[0m\n\u001b[1;32m    308\u001b[0m \u001b[38;5;28;01mtry\u001b[39;00m:\n\u001b[0;32m--> 309\u001b[0m     \u001b[38;5;28;01mreturn\u001b[39;00m np\u001b[38;5;241m.\u001b[39marray(\u001b[38;5;28;43mlist\u001b[39;49m\u001b[43m(\u001b[49m\u001b[38;5;28;43mmap\u001b[39;49m\u001b[43m(\u001b[49m\u001b[38;5;28;43mself\u001b[39;49m\u001b[38;5;241;43m.\u001b[39;49m\u001b[43mdecrypt_frac\u001b[49m\u001b[43m,\u001b[49m\u001b[43m \u001b[49m\u001b[43mmatrix\u001b[49m\u001b[43m)\u001b[49m\u001b[43m)\u001b[49m)\n\u001b[1;32m    310\u001b[0m \u001b[38;5;28;01mexcept\u001b[39;00m \u001b[38;5;167;01mTypeError\u001b[39;00m:\n",
      "File \u001b[0;32m~/PyCrCNN/pycrcnn/he/HE.py:219\u001b[0m, in \u001b[0;36mCKKSPyfhel.decrypt_frac\u001b[0;34m(self, x)\u001b[0m\n\u001b[1;32m    218\u001b[0m \u001b[38;5;28;01mif\u001b[39;00m \u001b[38;5;28misinstance\u001b[39m(x, np\u001b[38;5;241m.\u001b[39mndarray):\n\u001b[0;32m--> 219\u001b[0m     \u001b[38;5;28;01mraise\u001b[39;00m \u001b[38;5;167;01mTypeError\u001b[39;00m\n\u001b[1;32m    220\u001b[0m \u001b[38;5;28;01mreturn\u001b[39;00m \u001b[38;5;28mself\u001b[39m\u001b[38;5;241m.\u001b[39mhe\u001b[38;5;241m.\u001b[39mdecryptFracFrac(x)[\u001b[38;5;241m0\u001b[39m]\n",
      "\u001b[0;31mTypeError\u001b[0m: ",
      "\nDuring handling of the above exception, another exception occurred:\n",
      "\u001b[0;31mAttributeError\u001b[0m                            Traceback (most recent call last)",
      "Input \u001b[0;32mIn [29]\u001b[0m, in \u001b[0;36m<cell line: 7>\u001b[0;34m()\u001b[0m\n\u001b[1;32m      4\u001b[0m \u001b[38;5;28mprint\u001b[39m(\u001b[38;5;124mf\u001b[39m\u001b[38;5;124m\"\u001b[39m\u001b[38;5;130;01m\\n\u001b[39;00m\u001b[38;5;124mThe encrypted processing of one image requested \u001b[39m\u001b[38;5;132;01m{\u001b[39;00mrequested_time\u001b[38;5;132;01m}\u001b[39;00m\u001b[38;5;124m seconds.\u001b[39m\u001b[38;5;124m\"\u001b[39m)\n\u001b[1;32m      6\u001b[0m start_time \u001b[38;5;241m=\u001b[39m time\u001b[38;5;241m.\u001b[39mtime()\n\u001b[0;32m----> 7\u001b[0m result \u001b[38;5;241m=\u001b[39m \u001b[43mHE_Client\u001b[49m\u001b[38;5;241;43m.\u001b[39;49m\u001b[43mdecrypt_matrix\u001b[49m\u001b[43m(\u001b[49m\u001b[43mencrypted_output\u001b[49m\u001b[43m)\u001b[49m\n\u001b[1;32m      8\u001b[0m requested_time \u001b[38;5;241m=\u001b[39m \u001b[38;5;28mround\u001b[39m(time\u001b[38;5;241m.\u001b[39mtime() \u001b[38;5;241m-\u001b[39m start_time, \u001b[38;5;241m2\u001b[39m)\n\u001b[1;32m      9\u001b[0m \u001b[38;5;28mprint\u001b[39m(\u001b[38;5;124mf\u001b[39m\u001b[38;5;124m\"\u001b[39m\u001b[38;5;130;01m\\n\u001b[39;00m\u001b[38;5;124mThe decryption of one result requested \u001b[39m\u001b[38;5;132;01m{\u001b[39;00mrequested_time\u001b[38;5;132;01m}\u001b[39;00m\u001b[38;5;124m seconds.\u001b[39m\u001b[38;5;124m\"\u001b[39m)\n",
      "File \u001b[0;32m~/PyCrCNN/pycrcnn/he/HE.py:311\u001b[0m, in \u001b[0;36mCKKSPyfhel.decrypt_matrix\u001b[0;34m(self, matrix)\u001b[0m\n\u001b[1;32m    309\u001b[0m     \u001b[38;5;28;01mreturn\u001b[39;00m np\u001b[38;5;241m.\u001b[39marray(\u001b[38;5;28mlist\u001b[39m(\u001b[38;5;28mmap\u001b[39m(\u001b[38;5;28mself\u001b[39m\u001b[38;5;241m.\u001b[39mdecrypt_frac, matrix)))\n\u001b[1;32m    310\u001b[0m \u001b[38;5;28;01mexcept\u001b[39;00m \u001b[38;5;167;01mTypeError\u001b[39;00m:\n\u001b[0;32m--> 311\u001b[0m     \u001b[38;5;28;01mreturn\u001b[39;00m np\u001b[38;5;241m.\u001b[39marray([\u001b[38;5;28mself\u001b[39m\u001b[38;5;241m.\u001b[39mdecrypt_matrix(m) \u001b[38;5;28;01mfor\u001b[39;00m m \u001b[38;5;129;01min\u001b[39;00m matrix])\n",
      "File \u001b[0;32m~/PyCrCNN/pycrcnn/he/HE.py:311\u001b[0m, in \u001b[0;36m<listcomp>\u001b[0;34m(.0)\u001b[0m\n\u001b[1;32m    309\u001b[0m     \u001b[38;5;28;01mreturn\u001b[39;00m np\u001b[38;5;241m.\u001b[39marray(\u001b[38;5;28mlist\u001b[39m(\u001b[38;5;28mmap\u001b[39m(\u001b[38;5;28mself\u001b[39m\u001b[38;5;241m.\u001b[39mdecrypt_frac, matrix)))\n\u001b[1;32m    310\u001b[0m \u001b[38;5;28;01mexcept\u001b[39;00m \u001b[38;5;167;01mTypeError\u001b[39;00m:\n\u001b[0;32m--> 311\u001b[0m     \u001b[38;5;28;01mreturn\u001b[39;00m np\u001b[38;5;241m.\u001b[39marray([\u001b[38;5;28;43mself\u001b[39;49m\u001b[38;5;241;43m.\u001b[39;49m\u001b[43mdecrypt_matrix\u001b[49m\u001b[43m(\u001b[49m\u001b[43mm\u001b[49m\u001b[43m)\u001b[49m \u001b[38;5;28;01mfor\u001b[39;00m m \u001b[38;5;129;01min\u001b[39;00m matrix])\n",
      "File \u001b[0;32m~/PyCrCNN/pycrcnn/he/HE.py:309\u001b[0m, in \u001b[0;36mCKKSPyfhel.decrypt_matrix\u001b[0;34m(self, matrix)\u001b[0m\n\u001b[1;32m    298\u001b[0m \u001b[38;5;124;03m\"\"\"Decrypt a PyCtxt nD matrix in a float nD matrix.\u001b[39;00m\n\u001b[1;32m    299\u001b[0m \u001b[38;5;124;03mParameters\u001b[39;00m\n\u001b[1;32m    300\u001b[0m \u001b[38;5;124;03m----------\u001b[39;00m\n\u001b[0;32m   (...)\u001b[0m\n\u001b[1;32m    306\u001b[0m \u001b[38;5;124;03m    nD-np.array( dtype=float ) with plain values\u001b[39;00m\n\u001b[1;32m    307\u001b[0m \u001b[38;5;124;03m\"\"\"\u001b[39;00m\n\u001b[1;32m    308\u001b[0m \u001b[38;5;28;01mtry\u001b[39;00m:\n\u001b[0;32m--> 309\u001b[0m     \u001b[38;5;28;01mreturn\u001b[39;00m np\u001b[38;5;241m.\u001b[39marray(\u001b[38;5;28;43mlist\u001b[39;49m\u001b[43m(\u001b[49m\u001b[38;5;28;43mmap\u001b[39;49m\u001b[43m(\u001b[49m\u001b[38;5;28;43mself\u001b[39;49m\u001b[38;5;241;43m.\u001b[39;49m\u001b[43mdecrypt_frac\u001b[49m\u001b[43m,\u001b[49m\u001b[43m \u001b[49m\u001b[43mmatrix\u001b[49m\u001b[43m)\u001b[49m\u001b[43m)\u001b[49m)\n\u001b[1;32m    310\u001b[0m \u001b[38;5;28;01mexcept\u001b[39;00m \u001b[38;5;167;01mTypeError\u001b[39;00m:\n\u001b[1;32m    311\u001b[0m     \u001b[38;5;28;01mreturn\u001b[39;00m np\u001b[38;5;241m.\u001b[39marray([\u001b[38;5;28mself\u001b[39m\u001b[38;5;241m.\u001b[39mdecrypt_matrix(m) \u001b[38;5;28;01mfor\u001b[39;00m m \u001b[38;5;129;01min\u001b[39;00m matrix])\n",
      "File \u001b[0;32m~/PyCrCNN/pycrcnn/he/HE.py:220\u001b[0m, in \u001b[0;36mCKKSPyfhel.decrypt_frac\u001b[0;34m(self, x)\u001b[0m\n\u001b[1;32m    218\u001b[0m \u001b[38;5;28;01mif\u001b[39;00m \u001b[38;5;28misinstance\u001b[39m(x, np\u001b[38;5;241m.\u001b[39mndarray):\n\u001b[1;32m    219\u001b[0m     \u001b[38;5;28;01mraise\u001b[39;00m \u001b[38;5;167;01mTypeError\u001b[39;00m\n\u001b[0;32m--> 220\u001b[0m \u001b[38;5;28;01mreturn\u001b[39;00m \u001b[38;5;28;43mself\u001b[39;49m\u001b[38;5;241;43m.\u001b[39;49m\u001b[43mhe\u001b[49m\u001b[38;5;241;43m.\u001b[39;49m\u001b[43mdecryptFracFrac\u001b[49m(x)[\u001b[38;5;241m0\u001b[39m]\n",
      "\u001b[0;31mAttributeError\u001b[0m: 'Pyfhel.Pyfhel.Pyfhel' object has no attribute 'decryptFracFrac'"
     ]
    }
   ],
   "source": [
    "start_time = time.time()\n",
    "encrypted_output = lenet1_approx_encoded(encrypted_image, debug=False)\n",
    "requested_time = round(time.time() - start_time, 2)\n",
    "print(f\"\\nThe encrypted processing of one image requested {requested_time} seconds.\")\n",
    "\n",
    "start_time = time.time()\n",
    "result = HE_Client.decrypt_matrix(encrypted_output)\n",
    "requested_time = round(time.time() - start_time, 2)\n",
    "print(f\"\\nThe decryption of one result requested {requested_time} seconds.\")\n",
    "\n",
    "difference = expected_output.numpy() - result\n",
    "\n",
    "print(f\"\\nThe expected result was:\")\n",
    "print(expected_output)\n",
    "\n",
    "print(f\"\\nThe actual result is: \")\n",
    "print(result)\n",
    "\n",
    "print(f\"\\nThe error is:\")\n",
    "print(difference)    "
   ]
  },
  {
   "cell_type": "markdown",
   "id": "452f4264-02d5-49c2-9db1-5859d1d94123",
   "metadata": {},
   "source": [
    "In this case we were not able to examine the NB evolution during the computation, because in order to compute the NB we need the secret key. If we use the same PyCrCNN HE context both to encrypt and to process the data, then we will also see the evolution of the NB after each layer."
   ]
  },
  {
   "cell_type": "code",
   "execution_count": null,
   "id": "960e28e3-471a-4710-93c8-fc1823a8a259",
   "metadata": {},
   "outputs": [],
   "source": []
  }
 ],
 "metadata": {
  "kernelspec": {
   "display_name": "Pyfhel3",
   "language": "python",
   "name": "pyfhel3"
  },
  "language_info": {
   "codemirror_mode": {
    "name": "ipython",
    "version": 3
   },
   "file_extension": ".py",
   "mimetype": "text/x-python",
   "name": "python",
   "nbconvert_exporter": "python",
   "pygments_lexer": "ipython3",
   "version": "3.8.10"
  }
 },
 "nbformat": 4,
 "nbformat_minor": 5
}
